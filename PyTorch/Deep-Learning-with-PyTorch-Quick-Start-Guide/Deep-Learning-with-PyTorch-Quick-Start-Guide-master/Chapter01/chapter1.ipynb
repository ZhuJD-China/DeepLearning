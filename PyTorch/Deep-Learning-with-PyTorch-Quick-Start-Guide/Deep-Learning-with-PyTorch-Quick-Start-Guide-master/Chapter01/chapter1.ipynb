{
 "cells": [
  {
   "cell_type": "code",
   "execution_count": 1,
   "metadata": {},
   "outputs": [
    {
     "name": "stdout",
     "output_type": "stream",
     "text": [
      "tensor([[  9,  12,  15],\n",
      "        [ 18,  21,  24]])\n"
     ]
    }
   ],
   "source": [
    "import torch\n",
    "import numpy as np\n",
    "\n",
    "x= torch.tensor([[1,2,3],[4,5,6]])\n",
    "y= torch.tensor([[7,8,9], [10,11,12]])\n",
    "f= 2*x + y\n",
    "print(f)"
   ]
  },
  {
   "cell_type": "code",
   "execution_count": 2,
   "metadata": {},
   "outputs": [
    {
     "name": "stdout",
     "output_type": "stream",
     "text": [
      "tensor([[ 0.,  0.,  0.],\n",
      "        [ 0.,  0.,  0.]])\n",
      "tensor([[ 1.,  1.,  1.],\n",
      "        [ 1.,  1.,  1.]])\n",
      "tensor([[ 0.9663,  0.0252,  0.5935],\n",
      "        [ 0.0047,  0.9107,  0.7989]])\n"
     ]
    }
   ],
   "source": [
    "shape=[2,3]\n",
    "xzeros =torch.zeros(shape)\n",
    "xones = torch.ones(shape)\n",
    "xrnd = torch.rand(shape)\n",
    "print(xzeros)\n",
    "print(xones)\n",
    "print(xrnd)"
   ]
  },
  {
   "cell_type": "code",
   "execution_count": 3,
   "metadata": {},
   "outputs": [
    {
     "name": "stdout",
     "output_type": "stream",
     "text": [
      "tensor([[ 0.8823,  0.9150,  0.3829],\n",
      "        [ 0.9593,  0.3904,  0.6009]])\n"
     ]
    }
   ],
   "source": [
    "torch.manual_seed(42)\n",
    "print(torch.rand([2,3]))"
   ]
  },
  {
   "cell_type": "code",
   "execution_count": 4,
   "metadata": {},
   "outputs": [
    {
     "name": "stdout",
     "output_type": "stream",
     "text": [
      "tensor([[  8,  10,  12],\n",
      "        [ 14,  16,  18]])\n"
     ]
    },
    {
     "data": {
      "text/plain": [
       "'torch.LongTensor'"
      ]
     },
     "execution_count": 4,
     "metadata": {},
     "output_type": "execute_result"
    }
   ],
   "source": [
    "import numpy as np\n",
    "xnp= np.array([[1,2,3],[4,5,6]])\n",
    "f2= xnp + y\n",
    "print(f2)\n",
    "f2.type()"
   ]
  },
  {
   "cell_type": "code",
   "execution_count": 5,
   "metadata": {},
   "outputs": [
    {
     "name": "stdout",
     "output_type": "stream",
     "text": [
      "torch.LongTensor\n"
     ]
    },
    {
     "data": {
      "text/plain": [
       "numpy.ndarray"
      ]
     },
     "execution_count": 5,
     "metadata": {},
     "output_type": "execute_result"
    }
   ],
   "source": [
    "print(f.type()) #call the tensors type method\n",
    "fnp = f.numpy() #create an array from the tensor\n",
    "type(fnp) #uses the python inbuilt type()"
   ]
  },
  {
   "cell_type": "code",
   "execution_count": 6,
   "metadata": {},
   "outputs": [
    {
     "name": "stdout",
     "output_type": "stream",
     "text": [
      "tensor([[ 1,  2,  3],\n",
      "        [ 4,  5,  6]])\n",
      "torch.LongTensor\n"
     ]
    }
   ],
   "source": [
    "xtensor = torch.from_numpy(xnp)\n",
    "print(xtensor)\n",
    "print(xtensor.type())"
   ]
  },
  {
   "cell_type": "code",
   "execution_count": 7,
   "metadata": {},
   "outputs": [
    {
     "name": "stdout",
     "output_type": "stream",
     "text": [
      "True\n",
      "tensor([ 1.,  0.,  1.], dtype=torch.float64)\n"
     ]
    }
   ],
   "source": [
    "a = np.ones(3)                  \n",
    "t = torch.from_numpy(a)      #create a tensor from an array\n",
    "b = t.numpy()                #Create an array from the tensor\n",
    "b[1] = 0                     #change a value in the array\n",
    "print(a[1] == b[1])          #this value changes in the original array\n",
    "print(t)                     # and also in the tensor - they share the same memory"
   ]
  },
  {
   "cell_type": "code",
   "execution_count": 8,
   "metadata": {},
   "outputs": [
    {
     "ename": "TypeError",
     "evalue": "can't convert np.ndarray of type numpy.int8. The only supported types are: double, float, float16, int64, int32, and uint8.",
     "output_type": "error",
     "traceback": [
      "\u001b[0;31m---------------------------------------------------------------------------\u001b[0m",
      "\u001b[0;31mTypeError\u001b[0m                                 Traceback (most recent call last)",
      "\u001b[0;32m<ipython-input-8-a7d699515564>\u001b[0m in \u001b[0;36m<module>\u001b[0;34m()\u001b[0m\n\u001b[1;32m      1\u001b[0m \u001b[0mint8np\u001b[0m\u001b[0;34m=\u001b[0m\u001b[0mnp\u001b[0m\u001b[0;34m.\u001b[0m\u001b[0mones\u001b[0m\u001b[0;34m(\u001b[0m\u001b[0;34m(\u001b[0m\u001b[0;36m2\u001b[0m\u001b[0;34m,\u001b[0m\u001b[0;36m3\u001b[0m\u001b[0;34m)\u001b[0m\u001b[0;34m,\u001b[0m\u001b[0mdtype\u001b[0m\u001b[0;34m=\u001b[0m\u001b[0mnp\u001b[0m\u001b[0;34m.\u001b[0m\u001b[0mint8\u001b[0m\u001b[0;34m)\u001b[0m\u001b[0;34m\u001b[0m\u001b[0m\n\u001b[0;32m----> 2\u001b[0;31m \u001b[0mbad\u001b[0m\u001b[0;34m=\u001b[0m \u001b[0mtorch\u001b[0m\u001b[0;34m.\u001b[0m\u001b[0mfrom_numpy\u001b[0m\u001b[0;34m(\u001b[0m\u001b[0mint8np\u001b[0m\u001b[0;34m)\u001b[0m\u001b[0;34m\u001b[0m\u001b[0m\n\u001b[0m",
      "\u001b[0;31mTypeError\u001b[0m: can't convert np.ndarray of type numpy.int8. The only supported types are: double, float, float16, int64, int32, and uint8."
     ]
    }
   ],
   "source": [
    "int8np=np.ones((2,3),dtype=np.int8)\n",
    "bad= torch.from_numpy(int8np)"
   ]
  },
  {
   "cell_type": "code",
   "execution_count": 9,
   "metadata": {},
   "outputs": [
    {
     "data": {
      "text/plain": [
       "'torch.IntTensor'"
      ]
     },
     "execution_count": 9,
     "metadata": {},
     "output_type": "execute_result"
    }
   ],
   "source": [
    "good = torch.from_numpy(int8np.astype(np.int32))\n",
    "good.type()"
   ]
  },
  {
   "cell_type": "code",
   "execution_count": 10,
   "metadata": {},
   "outputs": [
    {
     "data": {
      "text/plain": [
       "'torch.IntTensor'"
      ]
     },
     "execution_count": 10,
     "metadata": {},
     "output_type": "execute_result"
    }
   ],
   "source": [
    "xint=torch.ones((2,3), dtype=torch.int)\n",
    "xint.type()"
   ]
  },
  {
   "cell_type": "code",
   "execution_count": 11,
   "metadata": {},
   "outputs": [
    {
     "name": "stdout",
     "output_type": "stream",
     "text": [
      "tensor([ 1,  2,  3])\n",
      "tensor([ 4,  5])\n"
     ]
    }
   ],
   "source": [
    "print(x[0])\n",
    "print(x[1][0:2])"
   ]
  },
  {
   "cell_type": "code",
   "execution_count": 12,
   "metadata": {},
   "outputs": [
    {
     "name": "stdout",
     "output_type": "stream",
     "text": [
      "torch.Size([2, 3])\n",
      "tensor([ 1,  2,  3,  4,  5,  6])\n",
      "tensor([[ 1,  2],\n",
      "        [ 3,  4],\n",
      "        [ 5,  6]])\n",
      "tensor([[ 1],\n",
      "        [ 2],\n",
      "        [ 3],\n",
      "        [ 4],\n",
      "        [ 5],\n",
      "        [ 6]])\n"
     ]
    }
   ],
   "source": [
    "print(x.size())\n",
    "print(x.view(-1))\n",
    "print(x.view(3,2))\n",
    "print(x.view(6,1))"
   ]
  },
  {
   "cell_type": "code",
   "execution_count": 13,
   "metadata": {},
   "outputs": [
    {
     "name": "stdout",
     "output_type": "stream",
     "text": [
      "tensor([[ 1,  2],\n",
      "        [ 3,  4],\n",
      "        [ 5,  6]])\n"
     ]
    }
   ],
   "source": [
    "print(x.view(3,-1))"
   ]
  },
  {
   "cell_type": "code",
   "execution_count": 14,
   "metadata": {},
   "outputs": [
    {
     "name": "stdout",
     "output_type": "stream",
     "text": [
      "torch.Size([3, 2])\n"
     ]
    },
    {
     "data": {
      "text/plain": [
       "torch.Size([2, 3])"
      ]
     },
     "execution_count": 14,
     "metadata": {},
     "output_type": "execute_result"
    }
   ],
   "source": [
    "print(x.transpose(0,1).size())\n",
    "x.size()"
   ]
  },
  {
   "cell_type": "code",
   "execution_count": 15,
   "metadata": {},
   "outputs": [
    {
     "name": "stdout",
     "output_type": "stream",
     "text": [
      "torch.Size([4, 3, 2, 1])\n",
      "torch.Size([4, 3, 2, 1])\n"
     ]
    }
   ],
   "source": [
    "a = torch.ones(1,2,3,4)\n",
    "print(a.transpose(0,3).transpose(1,2).size())    #swaps axis in two steps\n",
    "print(a.permute(3,2,1,0).size())                 #swaps all axis at once"
   ]
  },
  {
   "cell_type": "code",
   "execution_count": 16,
   "metadata": {},
   "outputs": [
    {
     "name": "stdout",
     "output_type": "stream",
     "text": [
      "tensor([[ 1,  2,  3],\n",
      "        [ 4,  5,  6]])\n",
      "tensor([[ 1,  4],\n",
      "        [ 2,  5],\n",
      "        [ 3,  6]])\n"
     ]
    }
   ],
   "source": [
    "print(x)\n",
    "x.transpose_(1,0)\n",
    "print(x)"
   ]
  },
  {
   "cell_type": "code",
   "execution_count": 19,
   "metadata": {},
   "outputs": [
    {
     "name": "stdout",
     "output_type": "stream",
     "text": [
      "Files already downloaded and verified\n"
     ]
    },
    {
     "data": {
      "text/plain": [
       "Dataset CIFAR10\n",
       "    Number of datapoints: 50000\n",
       "    Split: train\n",
       "    Root Location: ./data\n",
       "    Transforms (if any): ToTensor()\n",
       "    Target Transforms (if any): None"
      ]
     },
     "execution_count": 19,
     "metadata": {},
     "output_type": "execute_result"
    }
   ],
   "source": [
    "import torch\n",
    "import torchvision\n",
    "import torchvision.transforms as transforms\n",
    "\n",
    "trainset = torchvision.datasets.CIFAR10(root='./data',   #data root directory \n",
    "                                             #The training set\n",
    "                                        download=True,   #checks if data has downloaded else does so\n",
    "                                        transform = transforms.ToTensor())  #transforms to tensor\n",
    "trainset"
   ]
  },
  {
   "cell_type": "code",
   "execution_count": 20,
   "metadata": {},
   "outputs": [
    {
     "name": "stdout",
     "output_type": "stream",
     "text": [
      "size of image torch.Size([3, 32, 32]) label 6\n",
      "size of image torch.Size([3, 32, 32]) label 9\n",
      "size of image torch.Size([3, 32, 32]) label 9\n"
     ]
    }
   ],
   "source": [
    "for i in range(len(trainset)):\n",
    "    print('size of image {} label {}'.format(trainset[i][0].size() , trainset[i][1]))\n",
    "    if i>1: break"
   ]
  },
  {
   "cell_type": "code",
   "execution_count": 21,
   "metadata": {},
   "outputs": [
    {
     "data": {
      "text/plain": [
       "<matplotlib.image.AxesImage at 0x7f7ed98e9588>"
      ]
     },
     "execution_count": 21,
     "metadata": {},
     "output_type": "execute_result"
    },
    {
     "data": {
      "image/png": "[encoded data removed]",
      "text/plain": [
       "<matplotlib.figure.Figure at 0x7f7ee16b1908>"
      ]
     },
     "metadata": {},
     "output_type": "display_data"
    }
   ],
   "source": [
    "import matplotlib.pyplot as plt\n",
    "%matplotlib inline\n",
    "\n",
    "torchimage=trainset[0][0]    #Indexes the first element of the first tuple ie the 1st image\n",
    "npimage=torchimage.permute(1, 2, 0) #changes the axis C H W to H W C\n",
    "plt.imshow(npimage)    #plots the image - no need to convert to numpy "
   ]
  },
  {
   "cell_type": "code",
   "execution_count": 22,
   "metadata": {
    "collapsed": true
   },
   "outputs": [],
   "source": [
    "from torch.utils.data import Dataset, DataLoader\n",
    "from torchvision import transforms\n",
    "from PIL import Image\n",
    "import torch\n",
    "import csv\n",
    "import os\n",
    "\n",
    "class toyDataset(Dataset):\n",
    " \n",
    "    def __init__(self, dataPath, labelsFile,  transform=None, train =True):       \n",
    "               \n",
    "        self.dataPath=dataPath     #the path to the data directory\n",
    "        self.transform = transform  #a transform object\n",
    "        self.train = train\n",
    "        \n",
    "        #builds a list of (name,label) tuples        \n",
    "        with open(os.path.join(self.dataPath,labelsFile)) as f:\n",
    "            self.labels=[tuple(line) for line in csv.reader(f)]        \n",
    "        # checks that all images files exist\n",
    "        l=len(self.labels)\n",
    "        for i in range(l):\n",
    "             assert os.path.isfile(dataPath + '/' + self.labels[i][0])  \n",
    "        ind = int(0.9 * l) \n",
    "        self.trainset, self.testset = self.labels[:ind] , self.labels[ind:]\n",
    "    \n",
    "    # so we can use dataset.len()\n",
    "    def __len__(self):\n",
    "        if self.train:\n",
    "            return len(self.trainset)\n",
    "        else:\n",
    "            return len(self.testset)\n",
    "    \n",
    "    #so we can use indexing\n",
    "    def __getitem__(self, idx):\n",
    "        if self.train:\n",
    "            imageName,imageLabel=self.trainset[idx][0:]\n",
    "        else:\n",
    "             imageName,imageLabel=self.testset[idx][0:]\n",
    "            \n",
    "        imagePath =  os.path.join(self.dataPath,imageName)              \n",
    "        image = Image.open(open(imagePath, 'rb'))\n",
    "                   \n",
    "        #transforms the image if required\n",
    "        if self.transform:\n",
    "            image = self.transform(image)\n",
    "        \n",
    "        return((image,imageLabel))"
   ]
  },
  {
   "cell_type": "code",
   "execution_count": 23,
   "metadata": {},
   "outputs": [
    {
     "name": "stdout",
     "output_type": "stream",
     "text": [
      "torch.Size([3, 551, 816])\n",
      " toy\n",
      "108\n"
     ]
    }
   ],
   "source": [
    "toydata = toyDataset('data/GiuseppeToys','labels.csv', transform=transforms.ToTensor())\n",
    "print(toydata[0][0].size()) #the size of the first image in the dataset\n",
    "print(toydata[0][1]) #the label\n",
    "print(len(toydata))"
   ]
  },
  {
   "cell_type": "code",
   "execution_count": 24,
   "metadata": {
    "collapsed": true
   },
   "outputs": [],
   "source": [
    "tforms= transforms.Compose([transforms.Grayscale(3), transforms.CenterCrop(300), transforms.ToTensor()])\n",
    "toyData=toyDataset('data/GiuseppeToys','labels.csv', transform =tforms)"
   ]
  },
  {
   "cell_type": "code",
   "execution_count": 25,
   "metadata": {},
   "outputs": [
    {
     "name": "stdout",
     "output_type": "stream",
     "text": [
      "(' toy', ' notoy ', ' notoy ', ' toy')\n",
      "torch.Size([4, 3, 300, 300])\n"
     ]
    }
   ],
   "source": [
    "toyloader = DataLoader(toyData, batch_size=4, shuffle=False)\n",
    "toyiter= iter(toyloader)\n",
    "images, labels = toyiter.next()\n",
    "labels=labels[0:]\n",
    "print(labels)                      \n",
    "print(images.size())        "
   ]
  },
  {
   "cell_type": "code",
   "execution_count": 26,
   "metadata": {},
   "outputs": [
    {
     "name": "stdout",
     "output_type": "stream",
     "text": [
      "tensor([ 3,  2,  2,  2])\n"
     ]
    }
   ],
   "source": [
    "from torchvision import datasets\n",
    "dataFromFolders = datasets.ImageFolder(root='data/GiuseppeToys/images', transform=tforms)\n",
    "folderloader = DataLoader(dataFromFolders, batch_size=4, shuffle=True)\n",
    "images, labels = iter(folderloader).next()\n",
    "print(labels)"
   ]
  },
  {
   "cell_type": "code",
   "execution_count": 27,
   "metadata": {
    "collapsed": true
   },
   "outputs": [],
   "source": [
    "class RemoveChannel(object):\n",
    "    def __init__(self, color):\n",
    "        #color = 'r' 'g' or 'b' - determines which color to remove \n",
    "        self.color=color\n",
    "        \n",
    "    def __call__(self, image):\n",
    "        if self.color == 'r':            \n",
    "            image[0,:,:] = 0             \n",
    "        elif self.color == 'b':\n",
    "            image[1,:,:] = 0            \n",
    "        elif self.color == 'g':\n",
    "            image[2,:,:] = 0        \n",
    "        return(image)   "
   ]
  },
  {
   "cell_type": "code",
   "execution_count": 28,
   "metadata": {},
   "outputs": [
    {
     "data": {
      "text/plain": [
       "324"
      ]
     },
     "execution_count": 28,
     "metadata": {},
     "output_type": "execute_result"
    }
   ],
   "source": [
    "cc2,cc3=RemoveChannel('b'), RemoveChannel('g')\n",
    "tforms2=transforms.Compose([transforms.CenterCrop(500), transforms.ToTensor(), cc2])\n",
    "tforms3=transforms.Compose([transforms.CenterCrop(500), transforms.ToTensor(), cc2])\n",
    "toydata2=toyDataset('data/GiuseppeToys','labels.csv', transform =tforms2, train=True)\n",
    "toydata3=toyDataset('data/GiuseppeToys','labels.csv', transform =tforms3, train=True)\n",
    "concatDataset= torch.utils.data.ConcatDataset([toydata,toydata2, toydata3])\n",
    "len(concatDataset)"
   ]
  },
  {
   "cell_type": "code",
   "execution_count": null,
   "metadata": {
    "collapsed": true
   },
   "outputs": [],
   "source": []
  }
 ],
 "metadata": {
  "kernelspec": {
   "display_name": "Python 3",
   "language": "python",
   "name": "python3"
  },
  "language_info": {
   "codemirror_mode": {
    "name": "ipython",
    "version": 3
   },
   "file_extension": ".py",
   "mimetype": "text/x-python",
   "name": "python",
   "nbconvert_exporter": "python",
   "pygments_lexer": "ipython3",
   "version": "3.6.3"
  }
 },
 "nbformat": 4,
 "nbformat_minor": 2
}
